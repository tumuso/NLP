{
  "nbformat": 4,
  "nbformat_minor": 0,
  "metadata": {
    "colab": {
      "name": "BERT_code.ipynb",
      "provenance": [],
      "collapsed_sections": []
    },
    "kernelspec": {
      "name": "python3",
      "display_name": "Python 3"
    },
    "language_info": {
      "name": "python"
    }
  },
  "cells": [
    {
      "cell_type": "code",
      "execution_count": null,
      "metadata": {
        "id": "BiStoDK3M1GV"
      },
      "outputs": [],
      "source": [
        "!pip install pytorch-transformers\n",
        "\n",
        "\n",
        "import numpy as np\n",
        "import pandas as pd\n",
        "import Torch\n",
        "\n",
        "from pytorch_transformers import BertTokenizer, BertForSequenceClassification, BertConfig\n",
        "\n",
        "#bert : 이진분류 문제 \n",
        "\n",
        "device = Torch.device('cuda')\n",
        "model = BertForSequenceClassification.from_pretrained('bert-base-multilingual-cased')\n",
        "model.to(device)\n",
        "model.train()\n",
        "\n",
        "for epoch in range(100):\n",
        "  # Dataset X, Y 필요\n",
        "  loss, logits = model(X, labels= Y) # X : 두개의 문장, Y : 두 문장이 연속한가?\n",
        "  pred = torch.argmax(F.softmax(logits), dim=1)\n",
        "  optimizer.zero_gard()\n",
        "  loss.backword()\n",
        "  optimizer.step()\n",
        "\n"
      ]
    },
    {
      "cell_type": "code",
      "source": [
        ""
      ],
      "metadata": {
        "id": "abhYYwHvM4oY"
      },
      "execution_count": null,
      "outputs": []
    },
    {
      "cell_type": "code",
      "source": [
        ""
      ],
      "metadata": {
        "id": "UJCrWPQyM4qp"
      },
      "execution_count": null,
      "outputs": []
    },
    {
      "cell_type": "code",
      "source": [
        ""
      ],
      "metadata": {
        "id": "WTImfKK9M4s_"
      },
      "execution_count": null,
      "outputs": []
    },
    {
      "cell_type": "code",
      "source": [
        ""
      ],
      "metadata": {
        "id": "d0UErxmwM4vM"
      },
      "execution_count": null,
      "outputs": []
    },
    {
      "cell_type": "code",
      "source": [
        ""
      ],
      "metadata": {
        "id": "XoCC5qW-M4xg"
      },
      "execution_count": null,
      "outputs": []
    },
    {
      "cell_type": "code",
      "source": [
        ""
      ],
      "metadata": {
        "id": "6UQhiM8mM4zp"
      },
      "execution_count": null,
      "outputs": []
    },
    {
      "cell_type": "code",
      "source": [
        ""
      ],
      "metadata": {
        "id": "V3nGggUyM417"
      },
      "execution_count": null,
      "outputs": []
    }
  ]
}